{
 "cells": [
  {
   "cell_type": "code",
   "execution_count": 71,
   "metadata": {},
   "outputs": [],
   "source": [
    "# Creating High Security Password ---> length --> 8 chars\n",
    "# password Consist off:\n",
    "#                    1.at least one upper case\n",
    "#                    2.at least one lower case\n",
    "#                    3.at least one number between 0 to 9\n",
    "#                    4.at least one special charecter\n",
    "\n",
    "\n",
    "import random as rd\n",
    "def get_password():\n",
    "    password = []\n",
    "    selection = []\n",
    "    check=[1,2,3,4]\n",
    "    special_char = [34,35,36,37,38,39,40,41,42,43,44,45,46,47,\n",
    "                   58,59,60,61,62,63,64,91,92,93,94,95,123,124,\n",
    "                   125,126]\n",
    "    i = 1\n",
    "    while i<=8: #number of chars\n",
    "        if i==8 and len(set(selection))==3:\n",
    "            missed_value = set(check)-set(selection)\n",
    "            for a in missed_value:\n",
    "                missed=a\n",
    "            s1=missed\n",
    "        else:\n",
    "            s1 = rd.randrange(1,4+1) #selection of type of char\n",
    "        if s1 not in selection or selection.count(s1)<3: #checking\n",
    "            selection.append(s1)    \n",
    "            if s1 == 1:\n",
    "                lc = rd.randrange(97,123)  #selecting lowercase\n",
    "                password.append(chr(lc))\n",
    "            if s1 == 2:\n",
    "                uc = rd.randrange(65,91)  #selecting uppercase\n",
    "                password.append(chr(uc))\n",
    "            if s1 == 3:\n",
    "                num = rd.randrange(0,10)   #selecting number\n",
    "                password.append(num)\n",
    "            if s1 == 4:\n",
    "                schar = rd.choice(special_char) #selecting special chars\n",
    "                password.append(chr(schar))\n",
    "            i+=1\n",
    "        else:\n",
    "                i=i\n",
    "    print(\"Your high security password is:\")\n",
    "    print(\"\\t\")\n",
    "    for P in password:\n",
    "        print(f\"{P}\",end='')\n",
    "    password.clear()\n",
    "    selection.clear()\n",
    "         "
   ]
  },
  {
   "cell_type": "code",
   "execution_count": 72,
   "metadata": {},
   "outputs": [
    {
     "name": "stdout",
     "output_type": "stream",
     "text": [
      "Your high security password is:\n",
      "\t\n",
      "]*847ftQ"
     ]
    }
   ],
   "source": [
    "get_password()"
   ]
  },
  {
   "cell_type": "code",
   "execution_count": null,
   "metadata": {},
   "outputs": [],
   "source": []
  },
  {
   "cell_type": "code",
   "execution_count": null,
   "metadata": {},
   "outputs": [],
   "source": []
  },
  {
   "cell_type": "code",
   "execution_count": null,
   "metadata": {},
   "outputs": [],
   "source": []
  }
 ],
 "metadata": {
  "kernelspec": {
   "display_name": "Python 3",
   "language": "python",
   "name": "python3"
  },
  "language_info": {
   "codemirror_mode": {
    "name": "ipython",
    "version": 3
   },
   "file_extension": ".py",
   "mimetype": "text/x-python",
   "name": "python",
   "nbconvert_exporter": "python",
   "pygments_lexer": "ipython3",
   "version": "3.7.4"
  }
 },
 "nbformat": 4,
 "nbformat_minor": 2
}
